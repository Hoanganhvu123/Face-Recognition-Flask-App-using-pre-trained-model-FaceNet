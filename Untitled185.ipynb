{
  "nbformat": 4,
  "nbformat_minor": 0,
  "metadata": {
    "colab": {
      "provenance": []
    },
    "kernelspec": {
      "name": "python3",
      "display_name": "Python 3"
    },
    "language_info": {
      "name": "python"
    }
  },
  "cells": [
    {
      "cell_type": "code",
      "execution_count": null,
      "metadata": {
        "id": "S1aFXHYoMBGz"
      },
      "outputs": [],
      "source": [
        "from google.colab import drive\n",
        "drive.mount('/content/gdrive')"
      ]
    },
    {
      "cell_type": "code",
      "source": [
        "!unzip /content/gdrive/Shareddrives/hehe/deepface1333.zip -d \"/content/\""
      ],
      "metadata": {
        "id": "QzX_6gtXNC68"
      },
      "execution_count": null,
      "outputs": []
    },
    {
      "cell_type": "code",
      "source": [
        "!pip install deepface "
      ],
      "metadata": {
        "id": "jux81E4vNEr9"
      },
      "execution_count": null,
      "outputs": []
    },
    {
      "cell_type": "code",
      "source": [
        "import time\n",
        "from os import path\n",
        "import numpy as np\n",
        "import pandas as pd\n",
        "from tqdm import tqdm\n",
        "import pickle\n",
        "\n",
        "from deepface.basemodels import VGGFace, OpenFace, Facenet, Facenet512, FbDeepFace, DeepID, DlibWrapper, ArcFace, Boosting\n",
        "from deepface.extendedmodels import Age, Gender, Race, Emotion\n",
        "from deepface.commons import functions, realtime, distance as dst\n",
        "from deepface import DeepFace\n",
        "\n",
        "import matplotlib.pyplot as plt\n",
        "import tensorflow as tf"
      ],
      "metadata": {
        "id": "UKBQjIr-NJGl"
      },
      "execution_count": null,
      "outputs": []
    },
    {
      "cell_type": "code",
      "source": [
        "from os import listdir\n",
        "from os.path import isdir\n",
        "from PIL import Image\n",
        "from numpy import savez_compressed\n",
        "from numpy import asarray\n",
        "from mtcnn.mtcnn import MTCNN\n",
        " \n",
        "# load images and extract faces từ đường dẫn\n",
        "def load_faces(directory):\n",
        " faces = list()\n",
        " # enumerate files\n",
        " for filename in listdir(directory):\n",
        " # path\n",
        "     path = directory + filename\n",
        " # get face\n",
        "    #  face = extract_face(path)\n",
        " # store\n",
        "     faces.append(path)\n",
        " return faces\n",
        " \n",
        "# load a dataset \n",
        "def load_dataset(directory):\n",
        " X, y = list(), list()\n",
        "\n",
        " for subdir in listdir(directory):\n",
        " # path\n",
        "    path = directory + subdir + '/'\n",
        " # skip any files that might be in the dir\n",
        "    if not isdir(path):\n",
        "       continue\n",
        "    # load all faces in the subdirectory\n",
        "    faces = load_faces(path)\n",
        "    # create labels\n",
        "    labels = [subdir for _ in range(len(faces))]\n",
        "    # summarize progress\n",
        "    print('>loaded %d examples for class: %s' % (len(faces), subdir))\n",
        "    # store\n",
        "    X.extend(faces)\n",
        "    y.extend(labels)\n",
        " return asarray(X), asarray(y)\n",
        " \n",
        "# load train dataset\n",
        "trainX, trainy = load_dataset('/content/deepface1333/data/train/')\n",
        "print(trainX.shape, trainy.shape)\n",
        "# load test dataset\n",
        "testX, testy = load_dataset('/content/deepface1333/data/val/')\n",
        "print(testX.shape, testy.shape)\n",
        "# save arrays to one file in compressed format\n",
        "savez_compressed('5-celebrity-faces-dataset.npz', trainX, trainy, testX, testy)"
      ],
      "metadata": {
        "id": "6n8q5mvmNP89"
      },
      "execution_count": null,
      "outputs": []
    },
    {
      "cell_type": "markdown",
      "source": [],
      "metadata": {
        "id": "B6-R_8RQh7WE"
      }
    },
    {
      "cell_type": "code",
      "source": [
        "from numpy import load\n",
        "from numpy import expand_dims\n",
        "from numpy import asarray\n",
        "from numpy import savez_compressed\n",
        "from keras.models import load_model\n",
        "import os\n",
        " \n",
        " \n",
        "# load the face dataset\n",
        "data = load('5-celebrity-faces-dataset.npz')\n",
        "trainX, trainy, testX, testy = data['arr_0'], data['arr_1'], data['arr_2'], data['arr_3']\n",
        "print('Loaded: ', trainX.shape, trainy.shape, testX.shape, testy.shape)\n",
        "\n",
        "# convert each face in the train set to an embedding\n",
        "newTrainX = []\n",
        "\n",
        "train_dir = '/content/deepface1333/data/train/'\n",
        "for directory in os.listdir(train_dir):\n",
        "    for i in os.listdir(os.path.join(train_dir, directory)):\n",
        "        embedding = DeepFace.represent(img_path = os.path.join(train_dir, directory, i), model_name = 'Facenet')\n",
        "        newTrainX.append(embedding)\n",
        "newTrainX = asarray(newTrainX)\n",
        "print(newTrainX.shape)\n",
        "\n",
        "\n",
        "\n",
        "\n",
        "# convert each face in the test set to an embedding\n",
        "newTestX = []\n",
        "val_dir = '/content/deepface1333/data/val/'\n",
        "for directory in os.listdir(val_dir):\n",
        "    for i in os.listdir(os.path.join(val_dir, directory)):\n",
        "        embedding = DeepFace.represent(img_path = os.path.join(val_dir, directory, i), model_name = 'Facenet')\n",
        "        newTestX.append(embedding)\n",
        "\n",
        "\n",
        "newTestX = asarray(newTestX)\n",
        "print(newTestX.shape)\n",
        "# save arrays to one file in compressed format\n",
        "savez_compressed('5-celebrity-faces-embeddings.npz', newTrainX, trainy, newTestX, testy)"
      ],
      "metadata": {
        "id": "mKjsteK7h_Rq"
      },
      "execution_count": null,
      "outputs": []
    },
    {
      "cell_type": "code",
      "source": [
        "# develop a classifier for the 5 Celebrity Faces Dataset\n",
        "from random import choice\n",
        "from numpy import load\n",
        "from numpy import expand_dims\n",
        "from sklearn.preprocessing import LabelEncoder\n",
        "from sklearn.preprocessing import Normalizer\n",
        "from sklearn.svm import SVC\n",
        "from matplotlib import pyplot\n",
        "# load faces\n",
        "data = load('/content/5-celebrity-faces-dataset.npz')\n",
        "testX_faces = data['arr_2']\n",
        "# load face embeddings\n",
        "data = load('/content/5-celebrity-faces-embeddings.npz', allow_pickle=True)\n",
        "trainX, trainy, testX, testy = data['arr_0'], data['arr_1'], data['arr_2'], data['arr_3']\n",
        "out_encoder = LabelEncoder()\n",
        "out_encoder.fit(trainy)\n",
        "trainy = out_encoder.transform(trainy)\n",
        "testy = out_encoder.transform(testy)\n",
        "trainX = trainX.astype(float)\n",
        "trainy = trainy.astype(float)\n",
        "testX = testX.astype(float)\n",
        "testy = testy.astype(float)\n",
        "# fit model\n",
        "model = SVC(kernel='linear', probability=True)\n",
        "model.fit(trainX, trainy)"
      ],
      "metadata": {
        "id": "fPGoOWMem02a"
      },
      "execution_count": null,
      "outputs": []
    },
    {
      "cell_type": "code",
      "source": [
        "import matplotlib.image as mpimg\n",
        "# test model on a random example from the test dataset\n",
        "selection = choice([i for i in range(testX.shape[0])])\n",
        "random_face_pixels = testX_faces[selection]\n",
        "random_face_emb = testX[selection]\n",
        "random_face_class = testy[selection]\n",
        "random_face_name = out_encoder.inverse_transform([random_face_class])\n",
        "# dự đoán khuôn mặt\n",
        "samples = expand_dims(random_face_emb, axis=0)\n",
        "yhat_class = model.predict(samples)\n",
        "yhat_prob = model.predict_proba(samples)\n",
        "# get name\n",
        "class_index = yhat_class[0]\n",
        "class_probability = yhat_prob[0,class_index] * 100\n",
        "predict_names = out_encoder.inverse_transform(yhat_class)\n",
        "print('Predicted: %s (%.3f)' % (predict_names[0], class_probability))\n",
        "print('Expected: %s' % random_face_name[0])\n",
        "# plot image\n",
        "image = mpimg.imread(random_face_pixels)\n",
        "plt.imshow(image)\n",
        "plt.show()"
      ],
      "metadata": {
        "id": "0uhlthls6FPh"
      },
      "execution_count": null,
      "outputs": []
    },
    {
      "cell_type": "code",
      "source": [
        "import pickle\n",
        "# save the model to disk\n",
        "filename = 'facenet.h5'\n",
        "pickle.dump(model, open(filename, 'wb'))"
      ],
      "metadata": {
        "id": "543EzUzAxBpy"
      },
      "execution_count": null,
      "outputs": []
    },
    {
      "cell_type": "code",
      "source": [
        "loaded_model = pickle.load(open('/content/facenet.h5', 'rb'))\n",
        "result = loaded_model.score(newTestX, testy)\n",
        "print(result)"
      ],
      "metadata": {
        "id": "RkV3x5lnxFUd"
      },
      "execution_count": null,
      "outputs": []
    },
    {
      "cell_type": "code",
      "source": [
        "#dự đoán\n",
        "path = '/content/666201.jpg'\n",
        "embedding = DeepFace.represent(img_path = path , model_name = 'Facenet')\n",
        "# dự đoán khuôn mặt sử dụng model mới save\n",
        "labels = [\"Ben Afflek\", \"Gautam Rode\", \"Jerry Seinfeld\", \"Madona\", \"Mindy Kaling\", \"The Rock\", \"Thomas Shelby\"]\n",
        "samples = expand_dims(embedding, axis=0)\n",
        "yhat_class = loaded_model.predict(samples)\n",
        "yhat_prob = loaded_model.predict_proba(samples)\n",
        "# get name\n",
        "class_index = yhat_class[0]\n",
        "predicted_label = labels[class_index]\n",
        "class_probability = yhat_prob[0,class_index] * 100\n",
        "print('Predicted: %s (%.3f)' % (predicted_label, class_probability))\n",
        "# plot image\n",
        "image = mpimg.imread(path)\n",
        "plt.imshow(image)\n",
        "plt.show()"
      ],
      "metadata": {
        "id": "eHznh8OOIDWn"
      },
      "execution_count": null,
      "outputs": []
    },
    {
      "cell_type": "code",
      "source": [],
      "metadata": {
        "id": "U0t5FAGdKTX0"
      },
      "execution_count": null,
      "outputs": []
    }
  ]
}